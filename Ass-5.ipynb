{
 "cells": [
  {
   "cell_type": "code",
   "execution_count": 1,
   "id": "f7886ff9-4554-4afb-aba7-4e7716409515",
   "metadata": {},
   "outputs": [
    {
     "name": "stdout",
     "output_type": "stream",
     "text": [
      "1\n",
      "2\n",
      "3\n",
      "4\n",
      "5\n",
      "6\n",
      "7\n",
      "8\n",
      "9\n",
      "10\n"
     ]
    }
   ],
   "source": [
    "for i in range(1,11):\n",
    "    print(i)"
   ]
  },
  {
   "cell_type": "code",
   "execution_count": 5,
   "id": "b27db61b-09d2-4079-95ee-57d281fef188",
   "metadata": {},
   "outputs": [
    {
     "data": {
      "text/plain": [
       "'We use for loop when we know that how many iterations are needed to be done whereas we use while loop when we not know how many iterations are need to be done'"
      ]
     },
     "execution_count": 5,
     "metadata": {},
     "output_type": "execute_result"
    }
   ],
   "source": [
    "\"\"\"We use for loop when we know that how many iterations are needed to be done whereas we use while loop when we not know how many iterations are need to be done\"\"\""
   ]
  },
  {
   "cell_type": "code",
   "execution_count": 7,
   "id": "c9747497-70ea-49ae-8f73-31fe8b2fa9af",
   "metadata": {},
   "outputs": [
    {
     "name": "stdout",
     "output_type": "stream",
     "text": [
      "Sum: 5050\n"
     ]
    }
   ],
   "source": [
    "total=0\n",
    "for i in range(1,101):\n",
    "    total+=i\n",
    "print(\"Sum:\",total)"
   ]
  },
  {
   "cell_type": "code",
   "execution_count": 8,
   "id": "d884a2c7-2d7b-4417-a36e-684d8fa8dc4c",
   "metadata": {},
   "outputs": [
    {
     "name": "stdout",
     "output_type": "stream",
     "text": [
      "1\n",
      "2\n",
      "3\n",
      "4\n",
      "5\n",
      "6\n",
      "7\n",
      "8\n",
      "9\n"
     ]
    }
   ],
   "source": [
    "l=[1,2,3,4,5,6,7,8,9]\n",
    "for i in l:\n",
    "    print(i)"
   ]
  },
  {
   "cell_type": "code",
   "execution_count": 12,
   "id": "cbbb2207-64cb-4be9-8ede-503ac1ef7c0d",
   "metadata": {},
   "outputs": [
    {
     "name": "stdout",
     "output_type": "stream",
     "text": [
      "Product: 120\n"
     ]
    }
   ],
   "source": [
    "lat=[1,2,3,4,5]\n",
    "mult=1\n",
    "for i in lat:\n",
    "    mult*=i\n",
    "print(\"Product:\",mult)"
   ]
  },
  {
   "cell_type": "code",
   "execution_count": 14,
   "id": "10674812-831e-477a-acf6-02528557c921",
   "metadata": {},
   "outputs": [
    {
     "name": "stdout",
     "output_type": "stream",
     "text": [
      "2\n",
      "4\n",
      "6\n",
      "8\n",
      "10\n",
      "12\n",
      "14\n",
      "16\n",
      "18\n",
      "20\n"
     ]
    }
   ],
   "source": [
    "for i in range(1,21):\n",
    "    if(i%2==0):\n",
    "        print(i)"
   ]
  },
  {
   "cell_type": "code",
   "execution_count": 16,
   "id": "81812e1f-406c-4cb3-a359-e1b38edc4392",
   "metadata": {},
   "outputs": [
    {
     "name": "stdin",
     "output_type": "stream",
     "text": [
      "Enter Number: 5\n"
     ]
    },
    {
     "name": "stdout",
     "output_type": "stream",
     "text": [
      "Factorial of 5 is 120\n"
     ]
    }
   ],
   "source": [
    "fact=1\n",
    "n=int(input(\"Enter Number:\"))\n",
    "for i in range(1,n+1):\n",
    "    fact*=i\n",
    "print(\"Factorial of\",n,\"is\",fact)"
   ]
  },
  {
   "cell_type": "code",
   "execution_count": 17,
   "id": "ccb02206-25b4-44e5-a086-28de13719ba8",
   "metadata": {},
   "outputs": [
    {
     "name": "stdout",
     "output_type": "stream",
     "text": [
      "a\n",
      "a\n",
      "y\n",
      "u\n",
      "s\n",
      "h\n"
     ]
    }
   ],
   "source": [
    "str1=\"aayush\"\n",
    "for i in str1:\n",
    "    print(i)"
   ]
  },
  {
   "cell_type": "code",
   "execution_count": 22,
   "id": "2e98dc83-d23d-4425-b73c-095134faf649",
   "metadata": {},
   "outputs": [
    {
     "name": "stdout",
     "output_type": "stream",
     "text": [
      "Max is 9\n"
     ]
    }
   ],
   "source": [
    "l=[3,4,5,3,9,8]\n",
    "max_val=l[0]\n",
    "for i in l:\n",
    "    if i>max_val:\n",
    "        max_val=i\n",
    "print(\"Max is\",max_val)"
   ]
  },
  {
   "cell_type": "code",
   "execution_count": 23,
   "id": "7779f9f8-3410-42a6-b146-e1629ec7b1dc",
   "metadata": {},
   "outputs": [
    {
     "name": "stdin",
     "output_type": "stream",
     "text": [
      "Enter the limit for the Fibonacci sequence:  6\n"
     ]
    },
    {
     "name": "stdout",
     "output_type": "stream",
     "text": [
      "Fibonacci sequence up to 6 :\n",
      "0 1 1 2 3 5 "
     ]
    }
   ],
   "source": [
    "limit = int(input(\"Enter the limit for the Fibonacci sequence: \"))\n",
    "a, b = 0, 1\n",
    "print(\"Fibonacci sequence up to\", limit, \":\")\n",
    "for _ in range(limit):\n",
    "    print(a, end=\" \")\n",
    "    a, b = b, a + b"
   ]
  },
  {
   "cell_type": "code",
   "execution_count": 26,
   "id": "dd418806-a95b-466c-97ed-7a5879a4f7cf",
   "metadata": {},
   "outputs": [
    {
     "name": "stdin",
     "output_type": "stream",
     "text": [
      "Enter a String: aayush\n"
     ]
    },
    {
     "name": "stdout",
     "output_type": "stream",
     "text": [
      "Number vowels are: 3\n"
     ]
    }
   ],
   "source": [
    "str1=str(input(\"Enter a String:\"))\n",
    "vowel=\"aeiouAEIOU\"\n",
    "count=0\n",
    "for a in str1:\n",
    "    if a in vowel:\n",
    "        count+=1\n",
    "print(\"Number vowels are:\",count)"
   ]
  },
  {
   "cell_type": "code",
   "execution_count": 27,
   "id": "aa2beac9-d2bc-432b-9be9-d7adb655bab7",
   "metadata": {},
   "outputs": [
    {
     "name": "stdin",
     "output_type": "stream",
     "text": [
      "Enter Number: 6\n"
     ]
    },
    {
     "name": "stdout",
     "output_type": "stream",
     "text": [
      "6x1=6\n",
      "6x2=12\n",
      "6x3=18\n",
      "6x4=24\n",
      "6x5=30\n",
      "6x6=36\n",
      "6x7=42\n",
      "6x8=48\n",
      "6x9=54\n",
      "6x10=60\n"
     ]
    }
   ],
   "source": [
    "n=int(input(\"Enter Number:\"))\n",
    "for i in range(1,11):\n",
    "    result= n*i\n",
    "    print(f\"{n}x{i}={result}\")"
   ]
  },
  {
   "cell_type": "code",
   "execution_count": 30,
   "id": "837dea20-fc11-4658-8a24-3d77790c9184",
   "metadata": {},
   "outputs": [
    {
     "name": "stdout",
     "output_type": "stream",
     "text": [
      "Reversed List is [5, 4, 3, 2, 1]\n"
     ]
    }
   ],
   "source": [
    "l=[1,2,3,4,5]\n",
    "l1=[]\n",
    "for i in l[::-1]:\n",
    "    l1.append(i)\n",
    "print(f\"Reversed List is {l1}\")"
   ]
  },
  {
   "cell_type": "code",
   "execution_count": 33,
   "id": "c1b836ab-a6a6-4cc2-a8bb-0643ac707f92",
   "metadata": {},
   "outputs": [
    {
     "name": "stdout",
     "output_type": "stream",
     "text": [
      "Common Elemnts 3\n",
      "Common Elemnts 4\n"
     ]
    }
   ],
   "source": [
    "l1=[1,2,3,4]\n",
    "l2=[3,4,5,6]\n",
    "for i in l1:\n",
    "    if i in l2:\n",
    "        print(\"Common Elemnts\",i)"
   ]
  },
  {
   "cell_type": "code",
   "execution_count": 34,
   "id": "b25b6526-b4bb-4d4c-a724-2a4e6e1776e6",
   "metadata": {},
   "outputs": [
    {
     "name": "stdout",
     "output_type": "stream",
     "text": [
      "Key: a, Value: 1\n",
      "Key: b, Value: 2\n",
      "Key: c, Value: 3\n",
      "Key: d, Value: 4\n"
     ]
    }
   ],
   "source": [
    "my_dict = {'a': 1, 'b': 2, 'c': 3, 'd': 4}\n",
    "# Iterate through keys and values using items()\n",
    "for key, value in my_dict.items():\n",
    "    print(f\"Key: {key}, Value: {value}\")"
   ]
  },
  {
   "cell_type": "code",
   "execution_count": 35,
   "id": "5c88c419-e2c4-4e12-b07b-bfba88ce5190",
   "metadata": {},
   "outputs": [
    {
     "name": "stdin",
     "output_type": "stream",
     "text": [
      "Enter the first number:  4\n",
      "Enter the second number:  8\n"
     ]
    },
    {
     "name": "stdout",
     "output_type": "stream",
     "text": [
      "The GCD of 4 and 8 is: 4\n"
     ]
    }
   ],
   "source": [
    "num1 = int(input(\"Enter the first number: \"))\n",
    "num2 = int(input(\"Enter the second number: \"))\n",
    "min_num = min(num1, num2)\n",
    "gcd = 1\n",
    "for i in range(1, min_num + 1):\n",
    "    if num1 % i == 0 and num2 % i == 0:\n",
    "        gcd = i\n",
    "print(f\"The GCD of {num1} and {num2} is:\", gcd)"
   ]
  },
  {
   "cell_type": "code",
   "execution_count": 36,
   "id": "0ee4d861-f73f-4c01-a6c7-4c72c7a776aa",
   "metadata": {},
   "outputs": [
    {
     "name": "stdin",
     "output_type": "stream",
     "text": [
      "Enter a string:  mom\n"
     ]
    },
    {
     "name": "stdout",
     "output_type": "stream",
     "text": [
      "mom is a palindrome.\n"
     ]
    }
   ],
   "source": [
    "input_string = input(\"Enter a string: \")\n",
    "cleaned_string = input_string.lower()\n",
    "is_palindrome = all(cleaned_string[i] == cleaned_string[-1 - i] for i in range(len(cleaned_string) // 2))\n",
    "print(f\"{input_string} is {'a palindrome.' if is_palindrome else 'not a palindrome.'}\")"
   ]
  },
  {
   "cell_type": "code",
   "execution_count": 37,
   "id": "8c3ed047-3c40-4c2a-b88b-d3485c0c73e9",
   "metadata": {},
   "outputs": [
    {
     "name": "stdout",
     "output_type": "stream",
     "text": [
      "[1, 2, 3, 4, 5, 6]\n"
     ]
    }
   ],
   "source": [
    "l1=[1,2,3,4,3,4,5,6]\n",
    "l2=[]\n",
    "for i in l1:\n",
    "    if i not in l2:\n",
    "        l2.append(i)\n",
    "print(l2)"
   ]
  },
  {
   "cell_type": "code",
   "execution_count": 41,
   "id": "7db91012-4ff9-4b53-8a16-25b3cd4cfc64",
   "metadata": {},
   "outputs": [
    {
     "name": "stdout",
     "output_type": "stream",
     "text": [
      "Word Count: 4\n"
     ]
    }
   ],
   "source": [
    "str1=\"aayush is a good\"\n",
    "l=str1.split(\" \")\n",
    "count=0\n",
    "for i in l:\n",
    "    count+=1\n",
    "print(\"Word Count:\",count)"
   ]
  },
  {
   "cell_type": "code",
   "execution_count": 42,
   "id": "2b8b2804-d4f5-48b3-b8ed-87c511e416c8",
   "metadata": {},
   "outputs": [
    {
     "name": "stdout",
     "output_type": "stream",
     "text": [
      "Sum of Odd Numbers: 625\n"
     ]
    }
   ],
   "source": [
    "total=0\n",
    "for i in range(1,51):\n",
    "    if i%2!=0:\n",
    "        total+=i\n",
    "print(\"Sum of Odd Numbers:\",total)"
   ]
  },
  {
   "cell_type": "code",
   "execution_count": 44,
   "id": "ccbe867f-4dac-447a-8b31-c0b305a7ec24",
   "metadata": {},
   "outputs": [
    {
     "name": "stdin",
     "output_type": "stream",
     "text": [
      "Enter a year:  2016\n"
     ]
    },
    {
     "name": "stdout",
     "output_type": "stream",
     "text": [
      "2016 is a leap year.\n"
     ]
    }
   ],
   "source": [
    "year = int(input(\"Enter a year: \"))\n",
    "is_leap_year = False\n",
    "for i in range(4, 4001, 4):\n",
    "    if year == i:\n",
    "        is_leap_year = True\n",
    "        break\n",
    "if is_leap_year:\n",
    "    print(f\"{year} is a leap year.\")\n",
    "else:\n",
    "    print(f\"{year} is not a leap year.\")\n"
   ]
  },
  {
   "cell_type": "code",
   "execution_count": 49,
   "id": "ae100c22-ab6a-414a-a880-179a6bf58bca",
   "metadata": {},
   "outputs": [
    {
     "name": "stdin",
     "output_type": "stream",
     "text": [
      "Enter a number:  4\n"
     ]
    },
    {
     "name": "stdout",
     "output_type": "stream",
     "text": [
      "The square root of 4.0 is approximately: 2.0\n"
     ]
    }
   ],
   "source": [
    "number = float(input(\"Enter a number: \"))\n",
    "guess = number / 2\n",
    "iterations = 10\n",
    "for _ in range(iterations):\n",
    "    guess = 0.5 * (guess + number / guess)\n",
    "print(f\"The square root of {number} is approximately: {guess}\")\n"
   ]
  },
  {
   "cell_type": "code",
   "execution_count": 50,
   "id": "a6b76c36-1b52-4d1e-816a-4977d7a9f935",
   "metadata": {},
   "outputs": [
    {
     "name": "stdin",
     "output_type": "stream",
     "text": [
      "Enter the first number:  66\n",
      "Enter the second number:  52\n"
     ]
    },
    {
     "name": "stdout",
     "output_type": "stream",
     "text": [
      "The LCM of 66 and 52 is: 1716\n"
     ]
    }
   ],
   "source": [
    "num1 = int(input(\"Enter the first number: \"))\n",
    "num2 = int(input(\"Enter the second number: \"))\n",
    "max_num = max(num1, num2)\n",
    "for i in range(max_num, num1 * num2 + 1, max_num):\n",
    "    if i % num1 == 0 and i % num2 == 0:\n",
    "        lcm = i\n",
    "        break\n",
    "print(f\"The LCM of {num1} and {num2} is: {lcm}\")\n"
   ]
  },
  {
   "cell_type": "code",
   "execution_count": 51,
   "id": "8d726342-b3e0-42da-86b8-92510260bb25",
   "metadata": {},
   "outputs": [
    {
     "name": "stdin",
     "output_type": "stream",
     "text": [
      "Enter a Number: 3\n"
     ]
    },
    {
     "name": "stdout",
     "output_type": "stream",
     "text": [
      "Positive\n"
     ]
    }
   ],
   "source": [
    "n=int(input(\"Enter a Number:\"))\n",
    "if n==0:\n",
    "    print(\"Zero\")\n",
    "elif n>0:\n",
    "    print(\"Positive\")\n",
    "else:\n",
    "    print(\"Negative\")"
   ]
  },
  {
   "cell_type": "code",
   "execution_count": 52,
   "id": "26c9f927-350c-4730-91d8-20435b6e6cbd",
   "metadata": {},
   "outputs": [
    {
     "name": "stdin",
     "output_type": "stream",
     "text": [
      "Enter a Number: 3\n"
     ]
    },
    {
     "name": "stdout",
     "output_type": "stream",
     "text": [
      "Odd\n"
     ]
    }
   ],
   "source": [
    "n=int(input(\"Enter a Number:\"))\n",
    "if n%2==0:\n",
    "    print(\"Even\")\n",
    "else:\n",
    "    print(\"Odd\")"
   ]
  },
  {
   "cell_type": "code",
   "execution_count": 53,
   "id": "365c0860-49e0-474b-ba10-09208612055a",
   "metadata": {},
   "outputs": [
    {
     "name": "stdin",
     "output_type": "stream",
     "text": [
      "Enter a number:  5\n"
     ]
    },
    {
     "name": "stdout",
     "output_type": "stream",
     "text": [
      "The number is positive.\n",
      "The number is odd.\n"
     ]
    }
   ],
   "source": [
    "number = int(input(\"Enter a number: \"))\n",
    "\n",
    "if number > 0:\n",
    "    print(\"The number is positive.\")\n",
    "    \n",
    "    if number % 2 == 0:\n",
    "        print(\"The number is even.\")\n",
    "    else:\n",
    "        print(\"The number is odd.\")\n",
    "        \n",
    "else:\n",
    "    print(\"The number is non-positive.\")\n"
   ]
  },
  {
   "cell_type": "code",
   "execution_count": 55,
   "id": "b0f1a9c4-2e37-491e-b035-455eb9173c5f",
   "metadata": {},
   "outputs": [
    {
     "name": "stdin",
     "output_type": "stream",
     "text": [
      "Enter Value of a: 3\n",
      "Enter Value of b: 4\n",
      "Enter Value of c: 2\n"
     ]
    },
    {
     "name": "stdout",
     "output_type": "stream",
     "text": [
      "Greatest Number: 4\n"
     ]
    }
   ],
   "source": [
    "a=int(input(\"Enter Value of a:\"))\n",
    "b=int(input(\"Enter Value of b:\"))\n",
    "c=int(input(\"Enter Value of c:\"))\n",
    "if (a>b and a>c):\n",
    "    print(f\"Greatest Number: {a}\")\n",
    "elif (b>a and b>c):\n",
    "    print(f\"Greatest Number: {b}\")\n",
    "else:\n",
    "    print(f\"Greatest Number: {c}\")"
   ]
  },
  {
   "cell_type": "code",
   "execution_count": 58,
   "id": "8f7f9301-66ae-4659-aaae-c12c3ac2cedc",
   "metadata": {},
   "outputs": [
    {
     "name": "stdin",
     "output_type": "stream",
     "text": [
      "Enter Number: 5\n"
     ]
    },
    {
     "name": "stdout",
     "output_type": "stream",
     "text": [
      "Absolute 5\n"
     ]
    }
   ],
   "source": [
    "n=int(input(\"Enter Number:\"))\n",
    "if n>0:\n",
    "    print(\"Absolute\",abs(n))\n",
    "else:\n",
    "    print(\"Number is negative\")"
   ]
  },
  {
   "cell_type": "code",
   "execution_count": 62,
   "id": "c7ea6eb4-9dcf-4cf4-9575-af00c99a9762",
   "metadata": {},
   "outputs": [
    {
     "name": "stdin",
     "output_type": "stream",
     "text": [
      "Enter a string:  a\n"
     ]
    },
    {
     "name": "stdout",
     "output_type": "stream",
     "text": [
      "Vowel\n"
     ]
    }
   ],
   "source": [
    "str1 = input(\"Enter a string: \")\n",
    "vowels = \"aeiouAEIOU\"\n",
    "if any(char in vowels for char in str1):\n",
    "    print(\"Vowel\")\n",
    "else:\n",
    "    print(\"Consonant\")\n"
   ]
  },
  {
   "cell_type": "code",
   "execution_count": 63,
   "id": "3f028f99-5044-49a4-af6c-bb75136ee9cd",
   "metadata": {},
   "outputs": [
    {
     "name": "stdin",
     "output_type": "stream",
     "text": [
      "Enter Age: 16\n"
     ]
    },
    {
     "name": "stdout",
     "output_type": "stream",
     "text": [
      "Not Eligible to Vote\n"
     ]
    }
   ],
   "source": [
    "age=int(input(\"Enter Age:\"))\n",
    "if(age>=18):\n",
    "    print(\"Eligible to Vote\")\n",
    "else:\n",
    "    print(\"Not Eligible to Vote\")"
   ]
  },
  {
   "cell_type": "code",
   "execution_count": 64,
   "id": "cca94492-fa1c-4183-ae58-5e6474717e19",
   "metadata": {},
   "outputs": [
    {
     "name": "stdin",
     "output_type": "stream",
     "text": [
      "Enter Amount: 700\n"
     ]
    },
    {
     "name": "stdout",
     "output_type": "stream",
     "text": [
      "Discount after 25%: ₹525.0\n"
     ]
    }
   ],
   "source": [
    "amt=int(input(\"Enter Amount:\"))\n",
    "if(amt>=100 and amt<500):\n",
    "    disc=amt*(10/100)\n",
    "    amt=amt-disc\n",
    "    print(f\"Discount after 10%: ₹{amt}\")\n",
    "elif(amt>=500 and amt<1000):\n",
    "    disc=amt*(25/100)\n",
    "    amt=amt-disc\n",
    "    print(f\"Discount after 25%: ₹{amt}\")\n",
    "elif(amt>=1000):\n",
    "    disc=amt*(50/100)\n",
    "    amt=amt-disc\n",
    "    print(f\"Discount after 50%: ₹{amt}\")\n",
    "else:\n",
    "    print(\"No discount on amount less than ₹100\")"
   ]
  },
  {
   "cell_type": "code",
   "execution_count": 2,
   "id": "9bf5f293-1f2f-4d5c-a3b7-4c1037263430",
   "metadata": {},
   "outputs": [
    {
     "name": "stdin",
     "output_type": "stream",
     "text": [
      "Enter number within range 1 to 100: 56\n"
     ]
    },
    {
     "name": "stdout",
     "output_type": "stream",
     "text": [
      "56 is within 1 to 100\n"
     ]
    }
   ],
   "source": [
    "n=int(input(\"Enter number within range 1 to 100:\"))\n",
    "lower_limit=1\n",
    "upper_limit=100\n",
    "if (lower_limit<= n <=upper_limit):\n",
    "    print(f\"{n} is within {lower_limit} to {upper_limit}\")\n",
    "else:\n",
    "    print(f\"{n} is not within {lower_limit} to {upper_limit}\")"
   ]
  },
  {
   "cell_type": "code",
   "execution_count": 4,
   "id": "882eecb4-e0b7-44c1-90eb-3cec2146407d",
   "metadata": {},
   "outputs": [
    {
     "name": "stdin",
     "output_type": "stream",
     "text": [
      "Enter Score: 87\n"
     ]
    },
    {
     "name": "stdout",
     "output_type": "stream",
     "text": [
      "Grade : B\n"
     ]
    }
   ],
   "source": [
    "score=int(input(\"Enter Score:\"))\n",
    "if(score>90):\n",
    "    print(\"Grade : A\")\n",
    "elif(score>80 and score<=90):\n",
    "    print(\"Grade : B\")\n",
    "elif(score>70 and score<=80):\n",
    "    print(\"Grade : C\")\n",
    "elif(score>60 and score<=70):\n",
    "    print(\"Grade : E\")\n",
    "elif(score>50 and score<=60):\n",
    "    print(\"Grade : E\")\n",
    "else:\n",
    "    print(\"FAIL\")"
   ]
  },
  {
   "cell_type": "code",
   "execution_count": 5,
   "id": "c37204c3-4ca4-4a75-bbca-51e450b0bf2f",
   "metadata": {},
   "outputs": [
    {
     "name": "stdin",
     "output_type": "stream",
     "text": [
      "Enter a String: \n"
     ]
    },
    {
     "name": "stdout",
     "output_type": "stream",
     "text": [
      "String is empty\n"
     ]
    }
   ],
   "source": [
    "st1=str(input(\"Enter a String:\"))\n",
    "if not st1:\n",
    "    print(\"String is empty\")\n",
    "else:\n",
    "    print(\"String is not empty\")"
   ]
  },
  {
   "cell_type": "code",
   "execution_count": 10,
   "id": "09d6788c-7b4f-42cc-8f0e-e01fe3d6056f",
   "metadata": {},
   "outputs": [
    {
     "name": "stdin",
     "output_type": "stream",
     "text": [
      "Enter Side of A: 5\n",
      "Enter Side of B: 6\n",
      "Enter Side of C: 5\n"
     ]
    },
    {
     "name": "stdout",
     "output_type": "stream",
     "text": [
      "Isoceles Triangle\n"
     ]
    }
   ],
   "source": [
    "a=int(input(\"Enter Side of A:\"))\n",
    "b=int(input(\"Enter Side of B:\"))\n",
    "c=int(input(\"Enter Side of C:\"))\n",
    "if (a==b==c):\n",
    "    print(\"Equilateral Triangle\")\n",
    "elif(a==b or b==c or a==c):\n",
    "    print(\"Isoceles Triangle\")\n",
    "else:\n",
    "    print(\"Scalene Triangle\")"
   ]
  },
  {
   "cell_type": "code",
   "execution_count": 12,
   "id": "c6009751-211e-4dae-af23-92a6a650fa70",
   "metadata": {},
   "outputs": [
    {
     "name": "stdin",
     "output_type": "stream",
     "text": [
      "Enter Day Number: 5\n"
     ]
    },
    {
     "name": "stdout",
     "output_type": "stream",
     "text": [
      "Friday\n"
     ]
    }
   ],
   "source": [
    "d=int(input(\"Enter Day Number:\"))\n",
    "if(d==1):\n",
    "    print(\"Monday\")\n",
    "elif(d==2):\n",
    "    print(\"Tuesday\")\n",
    "elif(d==3):\n",
    "    print(\"Wednesday\")\n",
    "elif(d==4):\n",
    "    print(\"Thursday\")\n",
    "elif(d==5):\n",
    "    print(\"Friday\")\n",
    "elif(d==6):\n",
    "    print(\"Saturday\")\n",
    "elif(d==7):\n",
    "    print(\"Sunday\")\n",
    "else:\n",
    "    print(\"Invalid Day Nymber Entered By The User\")"
   ]
  },
  {
   "cell_type": "code",
   "execution_count": 17,
   "id": "b5fcb073-489d-4bf5-807d-cbf7df23efe6",
   "metadata": {},
   "outputs": [
    {
     "name": "stdin",
     "output_type": "stream",
     "text": [
      "Enter Year: 1600\n"
     ]
    },
    {
     "name": "stdout",
     "output_type": "stream",
     "text": [
      "1600 is a leap year\n"
     ]
    }
   ],
   "source": [
    "yr=int(input(\"Enter Year:\"))\n",
    "if((yr%4==0 and yr%100!=0) or(yr%400==0)):\n",
    "    print(f\"{yr} is a leap year\")\n",
    "else:\n",
    "    print(f\"{yr} is not a leap year\")"
   ]
  },
  {
   "cell_type": "code",
   "execution_count": 22,
   "id": "7259c5d2-dd99-40c4-bd7a-ed2edd03553b",
   "metadata": {},
   "outputs": [
    {
     "name": "stdin",
     "output_type": "stream",
     "text": [
      "Enter X value: 9\n"
     ]
    },
    {
     "name": "stdout",
     "output_type": "stream",
     "text": [
      "x is positive.\n",
      "9\n"
     ]
    }
   ],
   "source": [
    "x = int(input(\"Enter X value:\"))\n",
    "if x > 0:\n",
    "    print(\"x is positive.\")\n",
    "else:\n",
    "    assert x == 0, \"x should be equal to 0.\"\n",
    "    print(\"x is 0.\")\n",
    "print(x)"
   ]
  },
  {
   "cell_type": "code",
   "execution_count": 1,
   "id": "287f99ee-95fe-4bdc-bd99-ca7361c7ccf3",
   "metadata": {},
   "outputs": [
    {
     "name": "stdin",
     "output_type": "stream",
     "text": [
      "Enter Age: 67\n"
     ]
    },
    {
     "name": "stdout",
     "output_type": "stream",
     "text": [
      "Senior Citizen Discount is Applicable\n"
     ]
    }
   ],
   "source": [
    "ae=int(input(\"Enter Age:\"))\n",
    "if(ae>=60):\n",
    "    print(\"Senior Citizen Discount is Applicable\")\n",
    "else:\n",
    "    print(\"No Discount\")"
   ]
  },
  {
   "cell_type": "code",
   "execution_count": 3,
   "id": "6c117692-8ee7-4ed8-a5d4-b667e7542246",
   "metadata": {},
   "outputs": [
    {
     "name": "stdin",
     "output_type": "stream",
     "text": [
      "Enter String: AAYUSH\n"
     ]
    },
    {
     "name": "stdout",
     "output_type": "stream",
     "text": [
      "string is in uppercase\n"
     ]
    }
   ],
   "source": [
    "st2=str(input(\"Enter String:\"))\n",
    "if st2.isupper()==True:\n",
    "    print(\"string is in uppercase\")\n",
    "elif st2.islower()==True:\n",
    "    print(\"string is in lowercase\")\n",
    "else:\n",
    "    print(\"No String is entered\")"
   ]
  },
  {
   "cell_type": "code",
   "execution_count": 4,
   "id": "a1847d32-519c-4228-9a3c-f81992d78881",
   "metadata": {},
   "outputs": [
    {
     "name": "stdin",
     "output_type": "stream",
     "text": [
      "Enter coefficient a:  4\n",
      "Enter coefficient b:  4\n",
      "Enter coefficient c:  4\n"
     ]
    },
    {
     "name": "stdout",
     "output_type": "stream",
     "text": [
      "Roots are complex conjugates: (-0.5+0.8660254037844386j) and (-0.5-0.8660254037844386j)\n"
     ]
    }
   ],
   "source": [
    "import math\n",
    "a = float(input(\"Enter coefficient a: \"))\n",
    "b = float(input(\"Enter coefficient b: \"))\n",
    "c = float(input(\"Enter coefficient c: \"))\n",
    "discriminant = b**2 - 4*a*c\n",
    "if discriminant > 0:\n",
    "    root1 = (-b + math.sqrt(discriminant)) / (2*a)\n",
    "    root2 = (-b - math.sqrt(discriminant)) / (2*a)\n",
    "    print(f\"Roots are real and distinct: {root1} and {root2}\")\n",
    "elif discriminant == 0:\n",
    "    root = -b / (2*a)\n",
    "    print(f\"Roots are real and equal: {root}\")\n",
    "else:\n",
    "    real_part = -b / (2*a)\n",
    "    imaginary_part = math.sqrt(abs(discriminant)) / (2*a)\n",
    "    root1 = complex(real_part, imaginary_part)\n",
    "    root2 = complex(real_part, -imaginary_part)\n",
    "    print(f\"Roots are complex conjugates: {root1} and {root2}\")\n"
   ]
  },
  {
   "cell_type": "code",
   "execution_count": 5,
   "id": "0fd7c37b-a5b7-4e71-8f29-83f17f5c41fc",
   "metadata": {},
   "outputs": [
    {
     "name": "stdin",
     "output_type": "stream",
     "text": [
      "Enter Year: 1900\n"
     ]
    },
    {
     "name": "stdout",
     "output_type": "stream",
     "text": [
      "1900 is a century year\n"
     ]
    }
   ],
   "source": [
    "year=int(input(\"Enter Year:\"))\n",
    "if(year%100==0):\n",
    "    print(f\"{year} is a century year\")\n",
    "else:\n",
    "     print(f\"{year} is not a century year\")"
   ]
  },
  {
   "cell_type": "code",
   "execution_count": 7,
   "id": "d85bb592-95ae-49da-8a0f-688729782b93",
   "metadata": {},
   "outputs": [
    {
     "name": "stdin",
     "output_type": "stream",
     "text": [
      "Enter a Perfect square number: 45\n"
     ]
    },
    {
     "name": "stdout",
     "output_type": "stream",
     "text": [
      "45 is not a perfect square.\n"
     ]
    }
   ],
   "source": [
    "n=int(input(\"Enter a Perfect square number:\"))\n",
    "sq=n**0.5\n",
    "if sq.is_integer():\n",
    "    print(f\"{n} is a perfect square.\")\n",
    "else:\n",
    "    print(f\"{n} is not a perfect square.\")"
   ]
  },
  {
   "cell_type": "code",
   "execution_count": 11,
   "id": "636c5758-add9-4ea6-b1c1-93967d30f9ea",
   "metadata": {},
   "outputs": [
    {
     "data": {
      "text/plain": [
       "'The continue statement is used to skip the rest of the code inside a loop for the current iteration and move on to the next iteration.\\nThe break statement is used to exit the loop prematurely, regardless of whether the loop condition is satisfied or not'"
      ]
     },
     "execution_count": 11,
     "metadata": {},
     "output_type": "execute_result"
    }
   ],
   "source": [
    "\"\"\"The continue statement is used to skip the rest of the code inside a loop for the current iteration and move on to the next iteration.\n",
    "The break statement is used to exit the loop prematurely, regardless of whether the loop condition is satisfied or not\"\"\""
   ]
  },
  {
   "cell_type": "code",
   "execution_count": 12,
   "id": "0adeba20-3d4f-43a4-8a7e-522f0cec3276",
   "metadata": {},
   "outputs": [
    {
     "name": "stdin",
     "output_type": "stream",
     "text": [
      "Enter weight in kilograms:  70\n",
      "Enter height in centimeters:  179\n"
     ]
    },
    {
     "name": "stdout",
     "output_type": "stream",
     "text": [
      "Your BMI is 21.85, and you are classified as Normal weight.\n"
     ]
    }
   ],
   "source": [
    "weight = float(input(\"Enter weight in kilograms: \"))\n",
    "height = float(input(\"Enter height in centimeters: \"))\n",
    "height_in_meters = height / 100.0\n",
    "bmi = weight / (height_in_meters ** 2)\n",
    "if bmi < 18.5:\n",
    "    classification = \"Underweight\"\n",
    "elif 18.5 <= bmi < 25:\n",
    "    classification = \"Normal weight\"\n",
    "elif 25 <= bmi < 30:\n",
    "    classification = \"Overweight\"\n",
    "else:\n",
    "    classification = \"Obese\"\n",
    "print(f\"Your BMI is {bmi:.2f}, and you are classified as {classification}.\")\n"
   ]
  },
  {
   "cell_type": "code",
   "execution_count": 14,
   "id": "2e3819e3-e3fa-458a-afcd-7acf10816a91",
   "metadata": {},
   "outputs": [
    {
     "name": "stdout",
     "output_type": "stream",
     "text": [
      "Original list: [1, 2, 3, 4, 5, 6, 7, 8, 9, 10]\n",
      "Filtered list of even numbers: [2, 4, 6, 8, 10]\n"
     ]
    }
   ],
   "source": [
    "numbers = [1, 2, 3, 4, 5, 6, 7, 8, 9, 10]\n",
    "filtered_numbers = filter(lambda x: x % 2 == 0, numbers)\n",
    "filtered_numbers_list = list(filtered_numbers)\n",
    "print(\"Original list:\", numbers)\n",
    "print(\"Filtered list of even numbers:\", filtered_numbers_list)\n"
   ]
  },
  {
   "cell_type": "code",
   "execution_count": 15,
   "id": "42e7b308-4e99-4d77-a880-89920a59aeb3",
   "metadata": {},
   "outputs": [
    {
     "name": "stdin",
     "output_type": "stream",
     "text": [
      "Enter a number:  7\n"
     ]
    },
    {
     "name": "stdout",
     "output_type": "stream",
     "text": [
      "7 is a prime number.\n"
     ]
    }
   ],
   "source": [
    "user_input = int(input(\"Enter a number: \"))\n",
    "if user_input <= 1:\n",
    "    print(f\"{user_input} is not a prime number.\")\n",
    "elif user_input == 2:\n",
    "    print(f\"{user_input} is a prime number.\")\n",
    "else:\n",
    "    is_prime = True\n",
    "    for i in range(2, int(user_input**0.5) + 1):\n",
    "        if user_input % i == 0:\n",
    "            is_prime = False\n",
    "            break\n",
    "\n",
    "    if is_prime:\n",
    "        print(f\"{user_input} is a prime number.\")\n",
    "    else:\n",
    "        print(f\"{user_input} is not a prime number.\")"
   ]
  },
  {
   "cell_type": "code",
   "execution_count": 2,
   "id": "56bebd78-f4e0-4c65-bfa2-c2efe434f43d",
   "metadata": {},
   "outputs": [
    {
     "data": {
      "text/plain": [
       "['hsuyaa', 'sllikswp', 'nohtyp']"
      ]
     },
     "execution_count": 2,
     "metadata": {},
     "output_type": "execute_result"
    }
   ],
   "source": [
    "\"\"\"The map() function in Python is a built-in function that is used to apply a specified function to all items in an iterable (e.g., a list) and return an iterable of the results.\"\"\"\n",
    "l=['aayush','pwskills','python']\n",
    "list(map( lambda c: c[::-1] ,l))"
   ]
  },
  {
   "cell_type": "code",
   "execution_count": 5,
   "id": "bec13f31-06e3-48d3-9c75-33b8dde805ed",
   "metadata": {},
   "outputs": [
    {
     "data": {
      "text/plain": [
       "[1, 4, 9, 16, 25]"
      ]
     },
     "execution_count": 5,
     "metadata": {},
     "output_type": "execute_result"
    }
   ],
   "source": [
    "l=[1,2,3,4,5]\n",
    "list(map( lambda c: c**2 ,l))"
   ]
  },
  {
   "cell_type": "code",
   "execution_count": 6,
   "id": "b0bbc0b7-c9fa-41c8-a405-415ffc7781df",
   "metadata": {},
   "outputs": [
    {
     "data": {
      "text/plain": [
       "'Differences:\\nSyntax:\\n\\nmap() requires a function and an iterable as arguments.\\nList comprehensions have a more concise and expressive syntax and are often considered more readable.\\nReadability:\\n\\nList comprehensions are generally more readable, especially for simple operations, as they provide a compact and clear way to express transformations on elements.\\nFunctionality:\\n\\nmap() can be used with any iterable and any function, making it more flexible in certain situations.\\nList comprehensions are specifically designed for creating lists, and their syntax reflects this purpose.\\nUse Cases:\\n\\nUse map() when you have an existing function (including built-in functions or functions from external libraries) and want to apply it to elements in an iterable.\\nUse list comprehensions when the transformation is relatively simple, and you want a concise and readable way to create a new list.\\nWhen to choose one over the other:\\nUse map() when:\\n\\nYou already have a function that you want to apply.\\nThe transformation logic is more complex or involves multiple arguments.\\nYou want to transform elements from multiple iterables simultaneously.\\nUse list comprehensions when:\\n\\nThe transformation is straightforward and can be expressed concisely.\\nYou want to create a new list from an existing iterable.\\nReadability and simplicity are important.\\n'"
      ]
     },
     "execution_count": 6,
     "metadata": {},
     "output_type": "execute_result"
    }
   ],
   "source": [
    "\"\"\"Differences:\n",
    "Syntax:\n",
    "\n",
    "map() requires a function and an iterable as arguments.\n",
    "List comprehensions have a more concise and expressive syntax and are often considered more readable.\n",
    "Readability:\n",
    "\n",
    "List comprehensions are generally more readable, especially for simple operations, as they provide a compact and clear way to express transformations on elements.\n",
    "Functionality:\n",
    "\n",
    "map() can be used with any iterable and any function, making it more flexible in certain situations.\n",
    "List comprehensions are specifically designed for creating lists, and their syntax reflects this purpose.\n",
    "Use Cases:\n",
    "\n",
    "Use map() when you have an existing function (including built-in functions or functions from external libraries) and want to apply it to elements in an iterable.\n",
    "Use list comprehensions when the transformation is relatively simple, and you want a concise and readable way to create a new list.\n",
    "When to choose one over the other:\n",
    "Use map() when:\n",
    "\n",
    "You already have a function that you want to apply.\n",
    "The transformation logic is more complex or involves multiple arguments.\n",
    "You want to transform elements from multiple iterables simultaneously.\n",
    "Use list comprehensions when:\n",
    "\n",
    "The transformation is straightforward and can be expressed concisely.\n",
    "You want to create a new list from an existing iterable.\n",
    "Readability and simplicity are important.\n",
    "\"\"\""
   ]
  },
  {
   "cell_type": "code",
   "execution_count": 8,
   "id": "dd7733fb-f8bf-4178-a5f1-d745e9479b40",
   "metadata": {},
   "outputs": [
    {
     "data": {
      "text/plain": [
       "['AAYUSH', 'PWSKILLS', 'PYTHON']"
      ]
     },
     "execution_count": 8,
     "metadata": {},
     "output_type": "execute_result"
    }
   ],
   "source": [
    "l=['aayush','pwskills','python']\n",
    "list(map( lambda c: c.upper() ,l))"
   ]
  },
  {
   "cell_type": "code",
   "execution_count": 9,
   "id": "73902e64-5bee-499d-9512-deb701ed9696",
   "metadata": {},
   "outputs": [
    {
     "data": {
      "text/plain": [
       "[6, 8, 6]"
      ]
     },
     "execution_count": 9,
     "metadata": {},
     "output_type": "execute_result"
    }
   ],
   "source": [
    "l=['aayush','pwskills','python']\n",
    "list(map( lambda c: len(c) ,l))"
   ]
  },
  {
   "cell_type": "code",
   "execution_count": null,
   "id": "610538ee-b260-4e95-88e0-8a3c6a478489",
   "metadata": {},
   "outputs": [],
   "source": [
    "def add_lists(a, b):\n",
    "    return a + b\n",
    "list_a = [1, 2, 3, 4]\n",
    "list_b = [5, 6, 7, 8]\n",
    "sum_result = map(add_lists, list_a, list_b)\n",
    "sum_result_list = list(sum_result)\n",
    "print(sum_result_list)"
   ]
  },
  {
   "cell_type": "code",
   "execution_count": 10,
   "id": "cc746597-1cde-4856-835f-f33b6c96d246",
   "metadata": {},
   "outputs": [
    {
     "data": {
      "text/plain": [
       "[86.0, 95.0, 104.0]"
      ]
     },
     "execution_count": 10,
     "metadata": {},
     "output_type": "execute_result"
    }
   ],
   "source": [
    "l=[30,35,40]\n",
    "list(map( lambda c: (c*9/5)+32 ,l))"
   ]
  },
  {
   "cell_type": "code",
   "execution_count": 12,
   "id": "e991e873-27e7-41f8-ba77-f07706428eac",
   "metadata": {},
   "outputs": [
    {
     "data": {
      "text/plain": [
       "[30, 36, 41]"
      ]
     },
     "execution_count": 12,
     "metadata": {},
     "output_type": "execute_result"
    }
   ],
   "source": [
    "l=[30.3,35.7,40.85]\n",
    "list(map( lambda c: round(c) ,l))"
   ]
  },
  {
   "cell_type": "code",
   "execution_count": 1,
   "id": "79bfef1e-25de-4ee4-a0e4-2a286347e618",
   "metadata": {},
   "outputs": [
    {
     "data": {
      "text/plain": [
       "10"
      ]
     },
     "execution_count": 1,
     "metadata": {},
     "output_type": "execute_result"
    }
   ],
   "source": [
    "l=[1,2,3,4,5,6,7,8,9,10]\n",
    "from functools import reduce\n",
    "reduce(lambda a,b: a if a>b else b ,l )"
   ]
  },
  {
   "cell_type": "code",
   "execution_count": 3,
   "id": "e3361985-e0f7-4843-b4e6-e8409b38ff37",
   "metadata": {},
   "outputs": [
    {
     "data": {
      "text/plain": [
       "120"
      ]
     },
     "execution_count": 3,
     "metadata": {},
     "output_type": "execute_result"
    }
   ],
   "source": [
    "l=[1,2,3,4,5]\n",
    "from functools import reduce\n",
    "reduce(lambda a,b: a*b ,l )"
   ]
  },
  {
   "cell_type": "code",
   "execution_count": 2,
   "id": "7962fe9c-7588-40f4-acb1-f13096f5f8b2",
   "metadata": {},
   "outputs": [
    {
     "name": "stdout",
     "output_type": "stream",
     "text": [
      "PWSkills\n"
     ]
    }
   ],
   "source": [
    "l = [\"PW\", \"Skills\"]\n",
    "from functools import reduce\n",
    "result = reduce(lambda a, b: a + b, l)\n",
    "print(result)"
   ]
  },
  {
   "cell_type": "code",
   "execution_count": 3,
   "id": "2927d4fc-7bc4-4aa1-9d3d-2d943a2f3cae",
   "metadata": {},
   "outputs": [
    {
     "name": "stdin",
     "output_type": "stream",
     "text": [
      "Enter a number:  5\n"
     ]
    },
    {
     "name": "stdout",
     "output_type": "stream",
     "text": [
      "The factorial of 5 is: 120\n"
     ]
    }
   ],
   "source": [
    "from functools import reduce\n",
    "number = int(input(\"Enter a number: \"))\n",
    "factorial = reduce(lambda x, y: x * y, range(1, number + 1), 1)\n",
    "print(f\"The factorial of {number} is: {factorial}\")"
   ]
  },
  {
   "cell_type": "code",
   "execution_count": 4,
   "id": "707baf33-430c-43f6-b468-448327bac05e",
   "metadata": {},
   "outputs": [
    {
     "name": "stdout",
     "output_type": "stream",
     "text": [
      "The GCD of [24, 36, 48, 60] is: 12\n"
     ]
    }
   ],
   "source": [
    "from functools import reduce\n",
    "import math\n",
    "numbers = [24, 36, 48, 60]\n",
    "gcd_result = reduce(math.gcd, numbers)\n",
    "print(f\"The GCD of {numbers} is: {gcd_result}\")"
   ]
  },
  {
   "cell_type": "code",
   "execution_count": 6,
   "id": "984c6d0d-59f7-4810-a4b0-d1592cb9cba0",
   "metadata": {},
   "outputs": [
    {
     "data": {
      "text/plain": [
       "21"
      ]
     },
     "execution_count": 6,
     "metadata": {},
     "output_type": "execute_result"
    }
   ],
   "source": [
    "l=[1,2,3,4,5,6]\n",
    "from functools import reduce\n",
    "reduce(lambda a,b: a+b ,l )"
   ]
  },
  {
   "cell_type": "code",
   "execution_count": null,
   "id": "41fb9e82-447a-4fa4-93c9-caf4ac4a6508",
   "metadata": {},
   "outputs": [],
   "source": [
    "\"\"\"The filter() function in Python is used to construct an iterator from elements of an iterable for which a function returns True. It provides a concise and readable way to filter elements from a sequence (like a list, tuple, or other iterable) based on a specified condition.\"\"\"\n",
    "umbers = [1, 2, 3, 4, 5, 6, 7, 8, 9, 10]\n",
    "even_numbers = list(filter(lambda x: x % 2 == 0, numbers))\n",
    "print(\"Even numbers:\", even_numbers)"
   ]
  },
  {
   "cell_type": "code",
   "execution_count": 7,
   "id": "08dfdffc-9831-49c8-b421-6d227bbd975a",
   "metadata": {},
   "outputs": [
    {
     "name": "stdout",
     "output_type": "stream",
     "text": [
      "Original numbers: [1, 2, 3, 4, 5, 6, 7, 8, 9, 10]\n",
      "Even numbers: [2, 4, 6, 8, 10]\n"
     ]
    }
   ],
   "source": [
    "numbers = [1, 2, 3, 4, 5, 6, 7, 8, 9, 10]\n",
    "even_numbers = list(filter(lambda x: x % 2 == 0, numbers))\n",
    "print(\"Original numbers:\", numbers)\n",
    "print(\"Even numbers:\", even_numbers)"
   ]
  },
  {
   "cell_type": "code",
   "execution_count": 10,
   "id": "c60746b3-b9fa-4e83-a060-eecae59ab682",
   "metadata": {},
   "outputs": [
    {
     "name": "stdout",
     "output_type": "stream",
     "text": [
      "Original names: ['Alice', 'Aayush', 'Bob', 'Charlie', 'David', 'Eva', 'Frank']\n",
      "Names starting with A: ['Alice', 'Aayush']\n"
     ]
    }
   ],
   "source": [
    "names = [\"Alice\",\"Aayush\" , \"Bob\", \"Charlie\", \"David\", \"Eva\", \"Frank\"]\n",
    "selected_names = list(filter(lambda name: name.startswith(\"A\"), names))\n",
    "print(f\"Original names: {names}\")\n",
    "print(\"Names starting with A:\", selected_names)"
   ]
  },
  {
   "cell_type": "code",
   "execution_count": 11,
   "id": "a80e298a-99d4-4dc9-b826-1ce02e76c0d3",
   "metadata": {},
   "outputs": [
    {
     "name": "stdout",
     "output_type": "stream",
     "text": [
      "Original numbers: [1, 2, 3, 4, 5, 6, 7, 8, 9, 10]\n",
      "Prime numbers: [2, 3, 5, 7]\n"
     ]
    }
   ],
   "source": [
    "numbers = [1,2,3,4,5,6,7,8,9,10]\n",
    "prime_numbers = list(filter(lambda x: all(x % i != 0 for i in range(2, int(x**0.5) + 1)) and x > 1, numbers))\n",
    "print(f\"Original numbers: {numbers}\")\n",
    "print(f\"Prime numbers: {prime_numbers}\")"
   ]
  },
  {
   "cell_type": "code",
   "execution_count": 12,
   "id": "122bac6b-6417-4742-898f-1477b69bfb8c",
   "metadata": {},
   "outputs": [
    {
     "name": "stdout",
     "output_type": "stream",
     "text": [
      "Original list: [1, None, 'hello', 42, None, 'world', None, 7]\n",
      "List without None values: [1, 'hello', 42, 'world', 7]\n"
     ]
    }
   ],
   "source": [
    "mixed_list = [1, None, \"hello\", 42, None, \"world\", None, 7]\n",
    "filtered_list = list(filter(lambda x: x is not None, mixed_list))\n",
    "print(\"Original list:\", mixed_list)\n",
    "print(\"List without None values:\", filtered_list)"
   ]
  },
  {
   "cell_type": "code",
   "execution_count": 14,
   "id": "3e0584af-09f6-4f9c-b84b-7306cd3562ac",
   "metadata": {},
   "outputs": [
    {
     "name": "stdout",
     "output_type": "stream",
     "text": [
      "List without None values: ['Aayush', 'Galaxy', 'Qwerty']\n"
     ]
    }
   ],
   "source": [
    "l=['Aayush', 'Hello', 'Galaxy', 'World', 'Qwerty']\n",
    "filtered_list = list(filter(lambda x: len(x)>5, l))\n",
    "print(\"List without None values:\", filtered_list)"
   ]
  },
  {
   "cell_type": "code",
   "execution_count": 18,
   "id": "eb593e58-4ba9-4d8b-901f-a7b3372d1831",
   "metadata": {},
   "outputs": [
    {
     "name": "stdout",
     "output_type": "stream",
     "text": [
      "[6, 7, 8, 9, 10]\n"
     ]
    }
   ],
   "source": [
    "numbers = [1, 2, 3, 4, 5, 6, 7, 8, 9, 10]\n",
    "filtered_list = list(filter(lambda x: x > 5, numbers))\n",
    "print(filtered_list)"
   ]
  },
  {
   "cell_type": "code",
   "execution_count": 19,
   "id": "b832e48d-a9af-44bf-90a0-e6e7acf23f86",
   "metadata": {},
   "outputs": [
    {
     "data": {
      "text/plain": [
       "\"Termination condition:\\n\\nRecursion relies on a base case that stops the recursive calls.\\nIteration relies on a condition that determines when the loop should stop.\\nMemory usage:\\n\\nRecursion may use more memory due to the function call stack.\\nIteration typically uses less memory as it doesn't involve multiple function calls on the stack.\\nReadability and simplicity:\\n\\nRecursion can lead to elegant and concise code for certain problems.\\nIteration may be more explicit and easier to understand in some cases.\\nPerformance:\\n\\nRecursion can have a higher overhead due to function calls.\\nIteration may have better performance in some cases.\""
      ]
     },
     "execution_count": 19,
     "metadata": {},
     "output_type": "execute_result"
    }
   ],
   "source": [
    "\"\"\"Recursion is a programming concept where a function calls itself in its own definition. In other words, a problem is divided into sub-problems, and each sub-problem is solved by solving smaller instances of the same problem. The process continues until a base case is reached, which provides the solution without further recursive calls.\"\"\"\n",
    "\"\"\"Termination condition:\n",
    "\n",
    "Recursion relies on a base case that stops the recursive calls.\n",
    "Iteration relies on a condition that determines when the loop should stop.\n",
    "Memory usage:\n",
    "\n",
    "Recursion may use more memory due to the function call stack.\n",
    "Iteration typically uses less memory as it doesn't involve multiple function calls on the stack.\n",
    "Readability and simplicity:\n",
    "\n",
    "Recursion can lead to elegant and concise code for certain problems.\n",
    "Iteration may be more explicit and easier to understand in some cases.\n",
    "Performance:\n",
    "\n",
    "Recursion can have a higher overhead due to function calls.\n",
    "Iteration may have better performance in some cases.\"\"\""
   ]
  },
  {
   "cell_type": "code",
   "execution_count": 3,
   "id": "10133e41-dcbc-4eb0-b7ec-200571130586",
   "metadata": {},
   "outputs": [
    {
     "name": "stdin",
     "output_type": "stream",
     "text": [
      "Enter Number: 5\n"
     ]
    },
    {
     "name": "stdout",
     "output_type": "stream",
     "text": [
      "Factorial: 120\n"
     ]
    }
   ],
   "source": [
    "def factorial(f):\n",
    "    if f == 0 or f == 1:\n",
    "        return 1\n",
    "    else:\n",
    "        return f * factorial(f - 1)\n",
    "n=int(input(\"Enter Number:\"))\n",
    "result= factorial(n)\n",
    "print(\"Factorial:\",result)"
   ]
  },
  {
   "cell_type": "code",
   "execution_count": 4,
   "id": "830cfbaa-a07f-485c-9d04-29f047c7c85d",
   "metadata": {},
   "outputs": [
    {
     "name": "stdout",
     "output_type": "stream",
     "text": [
      "The 6th Fibonacci number is: 5\n"
     ]
    }
   ],
   "source": [
    "def fibonacci(n):\n",
    "    if n <= 0:\n",
    "        return \"Invalid input. Please provide a positive integer.\"\n",
    "    elif n == 1:\n",
    "        return 0\n",
    "    elif n == 2:\n",
    "        return 1\n",
    "    else:\n",
    "        return fibonacci(n - 1) + fibonacci(n - 2)\n",
    "n = 6\n",
    "result = fibonacci(n)\n",
    "print(f\"The {n}th Fibonacci number is: {result}\")"
   ]
  },
  {
   "cell_type": "code",
   "execution_count": 5,
   "id": "6b8188fc-dd8e-43b9-a997-4ddd64541f62",
   "metadata": {},
   "outputs": [
    {
     "name": "stdout",
     "output_type": "stream",
     "text": [
      "The sum of the elements in the list is: 15\n"
     ]
    }
   ],
   "source": [
    "def recursive_sum(lst):\n",
    "    if not lst:\n",
    "        return 0\n",
    "    else:\n",
    "        return lst[0] + recursive_sum(lst[1:])\n",
    "numbers = [1, 2, 3, 4, 5]\n",
    "result = recursive_sum(numbers)\n",
    "print(f\"The sum of the elements in the list is: {result}\")"
   ]
  },
  {
   "cell_type": "code",
   "execution_count": 8,
   "id": "b77c6c71-d177-4ad4-923b-cdf4adb32537",
   "metadata": {},
   "outputs": [
    {
     "name": "stdout",
     "output_type": "stream",
     "text": [
      "The -6th Factorial number is: Invalid input. Please provide a non-negative integer.\n"
     ]
    }
   ],
   "source": [
    "def factorial(n):\n",
    "    if n < 0:\n",
    "        return \"Invalid input. Please provide a non-negative integer.\"\n",
    "    elif n == 0 or n == 1:\n",
    "        return 1\n",
    "    else:\n",
    "        return n * factorial(n - 1)\n",
    "n = -6\n",
    "result = factorial(n)\n",
    "print(f\"The {n}th Factorial number is: {result}\")"
   ]
  },
  {
   "cell_type": "code",
   "execution_count": 1,
   "id": "b1112733-9039-4b9e-89d5-8d81b69cbab3",
   "metadata": {},
   "outputs": [
    {
     "name": "stdout",
     "output_type": "stream",
     "text": [
      "The GCD of 48 and 18 is 6\n"
     ]
    }
   ],
   "source": [
    "def gcd_recursive(a, b):\n",
    "    if b == 0:\n",
    "        return a\n",
    "    return gcd_recursive(b, a % b)\n",
    "num1 = 48\n",
    "num2 = 18\n",
    "result = gcd_recursive(num1, num2)\n",
    "print(f\"The GCD of {num1} and {num2} is {result}\")"
   ]
  },
  {
   "cell_type": "code",
   "execution_count": 2,
   "id": "1d85a7b3-ca8b-4163-bef4-700ca236d979",
   "metadata": {},
   "outputs": [
    {
     "name": "stdout",
     "output_type": "stream",
     "text": [
      "The original string: Hello, World!\n",
      "The reversed string: !dlroW ,olleH\n"
     ]
    }
   ],
   "source": [
    "def reverse_string_recursive(input_str):\n",
    "    if len(input_str) <= 1:\n",
    "        return input_str\n",
    "    return reverse_string_recursive(input_str[1:]) + input_str[0]\n",
    "original_str = \"Hello, World!\"\n",
    "reversed_str = reverse_string_recursive(original_str)\n",
    "print(f\"The original string: {original_str}\")\n",
    "print(f\"The reversed string: {reversed_str}\")"
   ]
  },
  {
   "cell_type": "code",
   "execution_count": 3,
   "id": "6cde78d7-093a-4a49-95e6-352c31d03967",
   "metadata": {},
   "outputs": [
    {
     "name": "stdout",
     "output_type": "stream",
     "text": [
      "2 raised to the power of 3 is 8\n"
     ]
    }
   ],
   "source": [
    "def power_recursive(x, n):\n",
    "    if n == 0:\n",
    "        return 1\n",
    "    return x * power_recursive(x, n - 1)\n",
    "base = 2\n",
    "exponent = 3\n",
    "result = power_recursive(base, exponent)\n",
    "print(f\"{base} raised to the power of {exponent} is {result}\")"
   ]
  },
  {
   "cell_type": "code",
   "execution_count": 4,
   "id": "3499f001-9394-4cfc-9288-78ea3d8cefe5",
   "metadata": {},
   "outputs": [
    {
     "name": "stdout",
     "output_type": "stream",
     "text": [
      "All permutations of 'abc': ['abc', 'acb', 'bac', 'bca', 'cab', 'cba']\n"
     ]
    }
   ],
   "source": [
    "def get_permutations(input_str):\n",
    "    if len(input_str) <= 1:\n",
    "        return [input_str]\n",
    "    permutations = []\n",
    "    for i in range(len(input_str)):\n",
    "        current_char = input_str[i]\n",
    "        remaining_chars = input_str[:i] + input_str[i+1:]\n",
    "        remaining_permutations = get_permutations(remaining_chars)\n",
    "        for perm in remaining_permutations:\n",
    "            permutations.append(current_char + perm)\n",
    "\n",
    "    return permutations\n",
    "input_string = \"abc\"\n",
    "all_permutations = get_permutations(input_string)\n",
    "print(f\"All permutations of '{input_string}': {all_permutations}\")"
   ]
  },
  {
   "cell_type": "code",
   "execution_count": 5,
   "id": "ec96250e-b2d6-4a57-833f-a71f6f298220",
   "metadata": {},
   "outputs": [
    {
     "name": "stdout",
     "output_type": "stream",
     "text": [
      "Is 'radar' a palindrome? True\n",
      "Is 'hello' a palindrome? False\n"
     ]
    }
   ],
   "source": [
    "def is_palindrome_recursive(input_str):\n",
    "    if len(input_str) <= 1:\n",
    "        return True\n",
    "    if input_str[0] != input_str[-1]:\n",
    "        return False\n",
    "    return is_palindrome_recursive(input_str[1:-1])\n",
    "palindrome_str = \"radar\"\n",
    "non_palindrome_str = \"hello\"\n",
    "print(f\"Is '{palindrome_str}' a palindrome? {is_palindrome_recursive(palindrome_str)}\")\n",
    "print(f\"Is '{non_palindrome_str}' a palindrome? {is_palindrome_recursive(non_palindrome_str)}\")"
   ]
  },
  {
   "cell_type": "code",
   "execution_count": 6,
   "id": "5620c5a2-4c61-44fc-a671-162cd5d07291",
   "metadata": {},
   "outputs": [
    {
     "name": "stdout",
     "output_type": "stream",
     "text": [
      "All combinations of [1, 2, 3]: [[1, 2, 3], [1, 2], [1, 3], [1], [2, 3], [2], [3], []]\n"
     ]
    }
   ],
   "source": [
    "def generate_combinations(elements):\n",
    "    if not elements:\n",
    "        return [[]]\n",
    "    first_element = elements[0]\n",
    "    rest_combinations = generate_combinations(elements[1:])\n",
    "    combinations_with_first = [[first_element] + combo for combo in rest_combinations]\n",
    "    combinations_without_first = generate_combinations(elements[1:])\n",
    "    all_combinations = combinations_with_first + combinations_without_first\n",
    "\n",
    "    return all_combinations\n",
    "\n",
    "input_elements = [1, 2, 3]\n",
    "all_combinations = generate_combinations(input_elements)\n",
    "print(f\"All combinations of {input_elements}: {all_combinations}\")\n"
   ]
  },
  {
   "cell_type": "code",
   "execution_count": 2,
   "id": "4943c235-7a2b-4be0-9586-0125d6391821",
   "metadata": {},
   "outputs": [
    {
     "data": {
      "text/plain": [
       "'In Python, a function is a block of organized, reusable code that performs a specific task. It is a way to group related code into a single unit, which can be called and executed when needed. Functions help in making code modular, more readable, and easier to maintain.'"
      ]
     },
     "execution_count": 2,
     "metadata": {},
     "output_type": "execute_result"
    }
   ],
   "source": [
    "\"\"\"In Python, a function is a block of organized, reusable code that performs a specific task. It is a way to group related code into a single unit, which can be called and executed when needed. Functions help in making code modular, more readable, and easier to maintain.\"\"\""
   ]
  },
  {
   "cell_type": "code",
   "execution_count": 3,
   "id": "b59fa874-61cf-4695-abf9-66eda59a0df2",
   "metadata": {},
   "outputs": [],
   "source": [
    "def add_numbers(a, b):\n",
    "    result = a + b\n",
    "    return result"
   ]
  },
  {
   "cell_type": "code",
   "execution_count": 4,
   "id": "cb195ffa-d790-443d-bf1c-9bacf05fe651",
   "metadata": {},
   "outputs": [
    {
     "data": {
      "text/plain": [
       "'A function call is the actual execution of a function. It involves using the function name followed by parentheses, and passing any required arguments (if the function has parameters).'"
      ]
     },
     "execution_count": 4,
     "metadata": {},
     "output_type": "execute_result"
    }
   ],
   "source": [
    "\"\"\"A function definition is the process of creating a function. It specifies what the function does and how it should behave.\"\"\"\n",
    "\"\"\"A function call is the actual execution of a function. It involves using the function name followed by parentheses, and passing any required arguments (if the function has parameters).\"\"\""
   ]
  },
  {
   "cell_type": "code",
   "execution_count": 5,
   "id": "249f246f-ab43-4b72-b0a3-c2fff9763c6d",
   "metadata": {},
   "outputs": [
    {
     "name": "stdout",
     "output_type": "stream",
     "text": [
      "add_numbers:  19\n"
     ]
    }
   ],
   "source": [
    "def add_numbers(a, b):\n",
    "    result = a + b\n",
    "    return result\n",
    "sum1= add_numbers(9,10)\n",
    "print(\"add_numbers: \",sum1)"
   ]
  },
  {
   "cell_type": "code",
   "execution_count": 7,
   "id": "58f44d32-5255-44e7-800d-0dc55a5b85a7",
   "metadata": {},
   "outputs": [
    {
     "data": {
      "text/plain": [
       "\"A function signature refers to the declaration of a function, which includes essential information about the function's interface without detailing the implementation. It serves as a concise summary of the function's key characteristics, helping developers understand how to use the function correctly.\""
      ]
     },
     "execution_count": 7,
     "metadata": {},
     "output_type": "execute_result"
    }
   ],
   "source": [
    "\"\"\"A function signature refers to the declaration of a function, which includes essential information about the function's interface without detailing the implementation. It serves as a concise summary of the function's key characteristics, helping developers understand how to use the function correctly.\"\"\""
   ]
  },
  {
   "cell_type": "code",
   "execution_count": 8,
   "id": "d814b2f3-4525-47a2-b6f8-61ef49246f3e",
   "metadata": {},
   "outputs": [
    {
     "name": "stdout",
     "output_type": "stream",
     "text": [
      "90\n"
     ]
    }
   ],
   "source": [
    "def mult_numbers(a, b):\n",
    "    result = a * b\n",
    "    return result\n",
    "mul1= mult_numbers(9,10)\n",
    "print(mul1)"
   ]
  },
  {
   "cell_type": "code",
   "execution_count": 10,
   "id": "92b11f95-809c-4fcc-9279-a110baef59e2",
   "metadata": {},
   "outputs": [
    {
     "data": {
      "text/plain": [
       "'Formal parameters are the variables declared in the function definition. They act as placeholders for the values that will be passed to the function when it is called.\\nwhereas Actual arguments are the values or expressions that are provided to a function during a function call. These values are substituted for the formal parameters defined in the function.'"
      ]
     },
     "execution_count": 10,
     "metadata": {},
     "output_type": "execute_result"
    }
   ],
   "source": [
    "\"\"\"Formal parameters are the variables declared in the function definition. They act as placeholders for the values that will be passed to the function when it is called.\n",
    "whereas Actual arguments are the values or expressions that are provided to a function during a function call. These values are substituted for the formal parameters defined in the function.\"\"\""
   ]
  },
  {
   "cell_type": "code",
   "execution_count": 16,
   "id": "0698483a-53ca-4dd4-a98d-f3506bafd396",
   "metadata": {},
   "outputs": [
    {
     "name": "stdout",
     "output_type": "stream",
     "text": [
      "Hello Aayush\n"
     ]
    }
   ],
   "source": [
    "def default_args(user,greet=\"Hello\"):\n",
    "    greeting= f\"{greet} {user}\"\n",
    "    return greeting\n",
    "greetings= default_args(\"Aayush\")\n",
    "print(greetings)"
   ]
  },
  {
   "cell_type": "code",
   "execution_count": 2,
   "id": "1122a905-7d4f-44b8-b989-e91287d7f977",
   "metadata": {},
   "outputs": [
    {
     "name": "stdout",
     "output_type": "stream",
     "text": [
      "Alice\n"
     ]
    }
   ],
   "source": [
    "def display_info(name):\n",
    "    return name\n",
    "\n",
    "# Using keyword arguments to call the function\n",
    "result = display_info(name=\"Alice\")\n",
    "\n",
    "# Displaying the result\n",
    "print(result)\n"
   ]
  },
  {
   "cell_type": "code",
   "execution_count": 3,
   "id": "357dce38-d4ea-4982-a4cf-d0be424f65b4",
   "metadata": {},
   "outputs": [
    {
     "name": "stdout",
     "output_type": "stream",
     "text": [
      "15\n",
      "60\n",
      "0\n"
     ]
    }
   ],
   "source": [
    "def calculate_sum(*args):\n",
    "    total = sum(args)\n",
    "    return total\n",
    "\n",
    "# Examples of using the function\n",
    "result1 = calculate_sum(1, 2, 3, 4, 5)\n",
    "print(result1)  # Output: 15\n",
    "\n",
    "result2 = calculate_sum(10, 20, 30)\n",
    "print(result2)  # Output: 60\n",
    "\n",
    "result3 = calculate_sum()\n",
    "print(result3)  # Output: 0 (no arguments provided)\n"
   ]
  },
  {
   "cell_type": "code",
   "execution_count": 5,
   "id": "71c3d3f7-6a26-4ea8-87fc-33cb8725ae37",
   "metadata": {},
   "outputs": [
    {
     "data": {
      "text/plain": [
       "'The *args syntax allows a function to accept an arbitrary number of positional arguments whereas The **kwargs syntax allows a function to accept an arbitrary number of keyword arguments (i.e., arguments passed with a name).'"
      ]
     },
     "execution_count": 5,
     "metadata": {},
     "output_type": "execute_result"
    }
   ],
   "source": [
    "\"\"\"The *args syntax allows a function to accept an arbitrary number of positional arguments whereas The **kwargs syntax allows a function to accept an arbitrary number of keyword arguments (i.e., arguments passed with a name).\"\"\""
   ]
  },
  {
   "cell_type": "code",
   "execution_count": 7,
   "id": "bd06fa1f-c4aa-422a-aab3-40fe029c0a0c",
   "metadata": {},
   "outputs": [
    {
     "name": "stdout",
     "output_type": "stream",
     "text": [
      "8\n"
     ]
    }
   ],
   "source": [
    "\"\"\"the return statement is used in a function to specify the value(s) that the function should produce as output. When a return statement is encountered, the function execution is terminated, and the specified value(s) are sent back to the caller.\"\"\"\n",
    "def add_numbers(a, b):\n",
    "    result = a + b\n",
    "    return result\n",
    "\n",
    "sum_result = add_numbers(3, 5)\n",
    "print(sum_result)\n"
   ]
  },
  {
   "cell_type": "code",
   "execution_count": 10,
   "id": "47c20027-de81-4087-a429-329a2c21ed90",
   "metadata": {},
   "outputs": [
    {
     "data": {
      "text/plain": [
       "'Variable scope refers to the region of the code where a particular variable is accessible or visible. Python has two main types of variable scope: local scope and global scope.\\nLocal variables are defined within a function and can only be accessed within that function.\\nGlobal variables are defined outside any function or block of code and can be accessed throughout the entire program.'"
      ]
     },
     "execution_count": 10,
     "metadata": {},
     "output_type": "execute_result"
    }
   ],
   "source": [
    "\"\"\"Variable scope refers to the region of the code where a particular variable is accessible or visible. Python has two main types of variable scope: local scope and global scope.\n",
    "Local variables are defined within a function and can only be accessed within that function.\n",
    "Global variables are defined outside any function or block of code and can be accessed throughout the entire program.\"\"\""
   ]
  },
  {
   "cell_type": "code",
   "execution_count": 11,
   "id": "f0214e22-ab3e-4ed6-a372-d5f5ab9cadad",
   "metadata": {},
   "outputs": [
    {
     "name": "stdout",
     "output_type": "stream",
     "text": [
      "I am global\n",
      "I am global\n"
     ]
    }
   ],
   "source": [
    "# This is a global variable\n",
    "global_var = \"I am global\"\n",
    "\n",
    "def example_function():\n",
    "    print(global_var)\n",
    "\n",
    "example_function()\n",
    "# You can also access and modify global_var outside the function\n",
    "print(global_var)\n"
   ]
  },
  {
   "cell_type": "code",
   "execution_count": 12,
   "id": "9e0de6d9-d4f1-4515-8de2-f02737fa7b41",
   "metadata": {},
   "outputs": [
    {
     "name": "stdout",
     "output_type": "stream",
     "text": [
      "120\n"
     ]
    }
   ],
   "source": [
    "def factorial(n):\n",
    "    if n == 0 or n == 1:\n",
    "        return 1\n",
    "    else:\n",
    "        return n * factorial(n - 1)\n",
    "result = factorial(5)\n",
    "print(result)\n"
   ]
  },
  {
   "cell_type": "code",
   "execution_count": 14,
   "id": "0e3b8865-c8bc-4478-a1fd-7e676cbe170e",
   "metadata": {},
   "outputs": [
    {
     "data": {
      "text/plain": [
       "'In Python, we can access variables defined outside a function from within the function by recognizing the concept of variable scope. Variables defined outside any function have a global scope, making them accessible from both the global scope and within functions.'"
      ]
     },
     "execution_count": 14,
     "metadata": {},
     "output_type": "execute_result"
    }
   ],
   "source": [
    "\"\"\"In Python, we can access variables defined outside a function from within the function by recognizing the concept of variable scope. Variables defined outside any function have a global scope, making them accessible from both the global scope and within functions.\"\"\""
   ]
  },
  {
   "cell_type": "code",
   "execution_count": 16,
   "id": "9909cd8f-1cae-4fe8-80e5-0ef4d79a1d66",
   "metadata": {},
   "outputs": [
    {
     "data": {
      "text/plain": [
       "\"Lambda function is a small, anonymous function defined using the lambda keyword. Lambda functions are often used for short, simple operations where a full function definition would be overly verbose. They are also known as anonymous functions because they don't have a name like regular functions created with the def keyword.\""
      ]
     },
     "execution_count": 16,
     "metadata": {},
     "output_type": "execute_result"
    }
   ],
   "source": [
    "\"\"\"Lambda function is a small, anonymous function defined using the lambda keyword. Lambda functions are often used for short, simple operations where a full function definition would be overly verbose. They are also known as anonymous functions because they don't have a name like regular functions created with the def keyword.\"\"\""
   ]
  },
  {
   "cell_type": "code",
   "execution_count": 17,
   "id": "8d56a787-8401-4594-be06-e6fab25a7a72",
   "metadata": {},
   "outputs": [
    {
     "name": "stdout",
     "output_type": "stream",
     "text": [
      "[(4, 1), (3, 2), (1, 5), (2, 8)]\n"
     ]
    }
   ],
   "source": [
    "# List of tuples\n",
    "data = [(1, 5), (3, 2), (2, 8), (4, 1)]\n",
    "sorted_data = sorted(data, key=lambda x: x[1])\n",
    "print(sorted_data)"
   ]
  },
  {
   "cell_type": "code",
   "execution_count": null,
   "id": "7e4aee86-7d22-4c56-bd39-abe322319070",
   "metadata": {},
   "outputs": [],
   "source": [
    "\"\"\"Higher-order function is a function that can take one or more functions as arguments or return a function\n",
    "as its result. Essentially, a higher-order function treats functions as first-class citizens,\n",
    "allowing them to be passed around and manipulated like any other data type. \"\"\"\n",
    "def apply_operation(operation, x, y):\n",
    "    return operation(x, y)\n",
    "def add(x, y):\n",
    "    return x + y\n",
    "\n",
    "def multiply(x, y):\n",
    "    return x * y\n",
    "\n",
    "result_addition = apply_operation(add, 3, 5)\n",
    "result_multiplication = apply_operation(multiply, 3, 5)\n",
    "\n",
    "print(result_addition)        \n",
    "print(result_multiplication)  \n"
   ]
  },
  {
   "cell_type": "code",
   "execution_count": 19,
   "id": "f98ccf36-1444-4e0a-9652-cee5d9d5e00f",
   "metadata": {},
   "outputs": [
    {
     "name": "stdout",
     "output_type": "stream",
     "text": [
      "[1, 4, 9, 16, 25]\n"
     ]
    }
   ],
   "source": [
    "def apply_function_to_list(numbers, custom_function):\n",
    "    \n",
    "    result = [custom_function(num) for num in numbers]\n",
    "    return result\n",
    "\n",
    "def square(x):\n",
    "    return x**2\n",
    "\n",
    "numbers_list = [1, 2, 3, 4, 5]\n",
    "\n",
    "result_squared = apply_function_to_list(numbers_list, square)\n",
    "\n",
    "print(result_squared)"
   ]
  },
  {
   "cell_type": "code",
   "execution_count": 22,
   "id": "9bcf6a76-a191-4ecb-aa3f-174087285f75",
   "metadata": {},
   "outputs": [
    {
     "data": {
      "text/plain": [
       "'The len() function is used to get the length (the number of items) of an iterable object, such as a string, list, tuple, or dictionary. The max() function is used to find the maximum value from an iterable or a series of arguments.\\nThe min() function is used to find the minimum value from an iterable or a series of arguments.'"
      ]
     },
     "execution_count": 22,
     "metadata": {},
     "output_type": "execute_result"
    }
   ],
   "source": [
    "\"\"\"The len() function is used to get the length (the number of items) of an iterable object, such as a string, list, tuple, or dictionary. The max() function is used to find the maximum value from an iterable or a series of arguments.\n",
    "The min() function is used to find the minimum value from an iterable or a series of arguments.\"\"\""
   ]
  },
  {
   "cell_type": "code",
   "execution_count": 1,
   "id": "03ab8b1a-2701-4b3e-a931-005d7e1bab3a",
   "metadata": {},
   "outputs": [
    {
     "name": "stdout",
     "output_type": "stream",
     "text": [
      "[1, 4, 9, 16, 25]\n"
     ]
    }
   ],
   "source": [
    "def square(x):\n",
    "    return x**2\n",
    "numbers = [1, 2, 3, 4, 5]\n",
    "\n",
    "squared_numbers = map(square, numbers)\n",
    "\n",
    "result_list = list(squared_numbers)\n",
    "\n",
    "print(result_list) "
   ]
  },
  {
   "cell_type": "code",
   "execution_count": 3,
   "id": "3b675c47-31c8-4868-9b39-2ca97e380c4b",
   "metadata": {},
   "outputs": [
    {
     "name": "stdout",
     "output_type": "stream",
     "text": [
      "[2, 4, 6, 8, 10]\n"
     ]
    }
   ],
   "source": [
    "\"\"\"The filter() function is used to construct an iterator from elements of an iterable for which a function returns true. It provides an elegant way to filter out elements from a sequence based on a specified condition.\"\"\"\n",
    "# Function to check if a number is even\n",
    "def is_even(num):\n",
    "    return num % 2 == 0\n",
    "\n",
    "# List of numbers\n",
    "numbers = [1, 2, 3, 4, 5, 6, 7, 8, 9, 10]\n",
    "\n",
    "# Using the filter() function to filter out even numbers\n",
    "filtered_numbers = filter(is_even, numbers)\n",
    "\n",
    "# Converting the result to a list for display\n",
    "result_list = list(filtered_numbers)\n",
    "\n",
    "# Displaying the filtered numbers\n",
    "print(result_list) \n"
   ]
  },
  {
   "cell_type": "code",
   "execution_count": 4,
   "id": "2e41894e-1190-4c1e-ae88-d0705ea017a4",
   "metadata": {},
   "outputs": [
    {
     "data": {
      "text/plain": [
       "720"
      ]
     },
     "execution_count": 4,
     "metadata": {},
     "output_type": "execute_result"
    }
   ],
   "source": [
    "l=[1,2,3,4,5,6]\n",
    "from functools import reduce\n",
    "reduce(lambda a,b: a*b,l)"
   ]
  },
  {
   "cell_type": "code",
   "execution_count": 6,
   "id": "337c1d49-9b08-40e0-91b4-bf4e663f1803",
   "metadata": {},
   "outputs": [],
   "source": [
    "\"\"\" a docstring is a string literal that occurs as the first statement in a module, function, class, or method definition. It serves as documentation for the associated object and provides information about its purpose, usage, and behavior. Docstrings are not just comments; they are accessible through the __doc__ attribute of the object and can be used by documentation tools and integrated development environments (IDEs).\"\"\"\n",
    "def add_numbers(x, y):\n",
    "    return x + y\n",
    "#Docstring Example"
   ]
  },
  {
   "cell_type": "code",
   "execution_count": 7,
   "id": "7574ffb5-f832-4b81-82a5-84bff7320bed",
   "metadata": {},
   "outputs": [
    {
     "data": {
      "text/plain": [
       "'Certainly! Here are some best practices for naming functions and variables in Python:\\n\\n### Naming Functions:\\n\\n1. **Use Descriptive Names:**\\n   - Choose names that clearly convey the purpose or action of the function.\\n   - Aim for readability and understandability.\\n\\n2. **Follow PEP 8 Guidelines:**\\n   - Adhere to the [PEP 8 style guide](https://www.python.org/dev/peps/pep-0008/) for function names.\\n   - Use lowercase letters and underscores for function names (snake_case).\\n\\n3. **Use Verbs for Action:**\\n   - Begin function names with a verb to indicate the action performed by the function.\\n   - Examples: `calculate_mean`, `generate_report`, `validate_input`.\\n\\n4. **Avoid Single-letter Names:**\\n   - Choose meaningful names instead of single-letter or cryptic names.\\n   - Exception: Commonly used variables like `i` in loops.\\n\\n5. **Be Consistent:**\\n   - Be consistent in naming across your codebase.\\n   - Choose a naming convention and stick to it.\\n\\n### Naming Variables:\\n\\n1. **Use Descriptive Names:**\\n   - Variable names should describe the data they hold or represent.\\n   - Avoid generic names like `temp` or `data`.\\n\\n2. **Follow PEP 8 Guidelines:**\\n   - Adhere to the PEP 8 guidelines for variable names.\\n   - Use lowercase letters and underscores for variable names (snake_case).\\n\\n3. **Choose Meaningful Names:**\\n   - Make the purpose or content of the variable clear.\\n   - Examples: `user_name`, `total_amount`, `employee_list`.\\n\\n4. **Avoid Single-letter Names:**\\n   - Exceptions are iterators in short loops (e.g., `for i in range(10)`).\\n\\n5. **Be Explicit:**\\n   - Choose names that explicitly convey the type or purpose of the variable.\\n   - Examples: `count`, `length`, `average_score`.\\n\\n### General Best Practices:\\n\\n1. **Use Consistent Naming Conventions:**\\n   - Adopt a consistent naming convention across your codebase.\\n   - Consistency enhances code readability.\\n\\n2. **Avoid Reserved Words:**\\n   - Avoid using Python reserved words as variable or function names.\\n   - Choose names that do not conflict with built-in functions or keywords.\\n\\n3. **Consider Context:**\\n   - Consider the context in which the function or variable is used.\\n   - Names should make sense in the context of the overall program.\\n\\n4. **Keep Names Concise:**\\n   - While descriptive, try to keep names concise.\\n   - Avoid overly long names that may make the code harder to read.\\n\\nBy following these naming conventions and best practices, your code will be more readable, maintainable, and easily understood by other developers. Consistent and clear naming contributes to the overall quality of your Python code.'"
      ]
     },
     "execution_count": 7,
     "metadata": {},
     "output_type": "execute_result"
    }
   ],
   "source": [
    "\"\"\"Certainly! Here are some best practices for naming functions and variables in Python:\n",
    "\n",
    "### Naming Functions:\n",
    "\n",
    "1. **Use Descriptive Names:**\n",
    "   - Choose names that clearly convey the purpose or action of the function.\n",
    "   - Aim for readability and understandability.\n",
    "\n",
    "2. **Follow PEP 8 Guidelines:**\n",
    "   - Adhere to the [PEP 8 style guide](https://www.python.org/dev/peps/pep-0008/) for function names.\n",
    "   - Use lowercase letters and underscores for function names (snake_case).\n",
    "\n",
    "3. **Use Verbs for Action:**\n",
    "   - Begin function names with a verb to indicate the action performed by the function.\n",
    "   - Examples: `calculate_mean`, `generate_report`, `validate_input`.\n",
    "\n",
    "4. **Avoid Single-letter Names:**\n",
    "   - Choose meaningful names instead of single-letter or cryptic names.\n",
    "   - Exception: Commonly used variables like `i` in loops.\n",
    "\n",
    "5. **Be Consistent:**\n",
    "   - Be consistent in naming across your codebase.\n",
    "   - Choose a naming convention and stick to it.\n",
    "\n",
    "### Naming Variables:\n",
    "\n",
    "1. **Use Descriptive Names:**\n",
    "   - Variable names should describe the data they hold or represent.\n",
    "   - Avoid generic names like `temp` or `data`.\n",
    "\n",
    "2. **Follow PEP 8 Guidelines:**\n",
    "   - Adhere to the PEP 8 guidelines for variable names.\n",
    "   - Use lowercase letters and underscores for variable names (snake_case).\n",
    "\n",
    "3. **Choose Meaningful Names:**\n",
    "   - Make the purpose or content of the variable clear.\n",
    "   - Examples: `user_name`, `total_amount`, `employee_list`.\n",
    "\n",
    "4. **Avoid Single-letter Names:**\n",
    "   - Exceptions are iterators in short loops (e.g., `for i in range(10)`).\n",
    "\n",
    "5. **Be Explicit:**\n",
    "   - Choose names that explicitly convey the type or purpose of the variable.\n",
    "   - Examples: `count`, `length`, `average_score`.\n",
    "\n",
    "### General Best Practices:\n",
    "\n",
    "1. **Use Consistent Naming Conventions:**\n",
    "   - Adopt a consistent naming convention across your codebase.\n",
    "   - Consistency enhances code readability.\n",
    "\n",
    "2. **Avoid Reserved Words:**\n",
    "   - Avoid using Python reserved words as variable or function names.\n",
    "   - Choose names that do not conflict with built-in functions or keywords.\n",
    "\n",
    "3. **Consider Context:**\n",
    "   - Consider the context in which the function or variable is used.\n",
    "   - Names should make sense in the context of the overall program.\n",
    "\n",
    "4. **Keep Names Concise:**\n",
    "   - While descriptive, try to keep names concise.\n",
    "   - Avoid overly long names that may make the code harder to read.\n",
    "\n",
    "By following these naming conventions and best practices, your code will be more readable, maintainable, and easily understood by other developers. Consistent and clear naming contributes to the overall quality of your Python code.\"\"\""
   ]
  }
 ],
 "metadata": {
  "kernelspec": {
   "display_name": "Python 3 (ipykernel)",
   "language": "python",
   "name": "python3"
  },
  "language_info": {
   "codemirror_mode": {
    "name": "ipython",
    "version": 3
   },
   "file_extension": ".py",
   "mimetype": "text/x-python",
   "name": "python",
   "nbconvert_exporter": "python",
   "pygments_lexer": "ipython3",
   "version": "3.10.8"
  }
 },
 "nbformat": 4,
 "nbformat_minor": 5
}
